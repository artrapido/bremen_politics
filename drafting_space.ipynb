{
 "cells": [
  {
   "cell_type": "code",
   "execution_count": 1,
   "metadata": {},
   "outputs": [],
   "source": [
    "import numpy as np\n",
    "import warnings\n",
    "warnings.simplefilter(action='ignore', category=FutureWarning)\n",
    "import pandas as pd\n",
    "import matplotlib as plt\n",
    "import seaborn as sns\n",
    "import tsfresh\n",
    "from collections import Counter\n",
    "import matplotlib.pyplot as plt"
   ]
  },
  {
   "cell_type": "code",
   "execution_count": null,
   "metadata": {},
   "outputs": [],
   "source": [
    "ballotsdf = pd.read_csv('ballots_party_2019.csv')\n",
    "partiesdf =  pd.read_csv('parties_Bremen_2019.csv').append({'party_id': 1500, 'shortname': 'The X-party', 'name': 'Some party that failed even to get listed properly'},ignore_index=True)\n",
    "display(partiesdf)\n",
    "display(ballotsdf)"
   ]
  },
  {
   "cell_type": "code",
   "execution_count": 3,
   "metadata": {},
   "outputs": [],
   "source": [
    "#replacing NaN with 0 - it seems to be quite natural\n",
    "for column in ballotsdf:\n",
    "    ballotsdf[column]=ballotsdf[column].apply(lambda x: 0 if np.isnan(x)==True else x)"
   ]
  },
  {
   "cell_type": "code",
   "execution_count": 133,
   "metadata": {},
   "outputs": [],
   "source": [
    "#now we have to merge the same ballots where the order is the only different thing\n",
    "def unique_ballots(df):\n",
    "    combdf = pd.DataFrame({'Counter':[], 'Quantity':[]})\n",
    "    for i in range(len(df)):\n",
    "        counter = Counter(df.iloc[i, :5])\n",
    "        if len(combdf[combdf.Counter == counter])==0:\n",
    "            combdf = combdf.append({'Counter':counter, 'Quantity':df.iloc[i, 5]}, ignore_index=True)\n",
    "        else:\n",
    "            combdf.loc[combdf[combdf.Counter==counter].index, 'Quantity']+=df.iloc[i, 5]\n",
    "    combdf.Counter = combdf.Counter.apply(lambda x: sum([[value]*key for value, key in zip(x.keys(), x.values())], []))\n",
    "    vote_1 = combdf.Counter.apply(lambda x: x[0])\n",
    "    vote_2 = combdf.Counter.apply(lambda x: x[1])\n",
    "    vote_3 = combdf.Counter.apply(lambda x: x[2])\n",
    "    vote_4 = combdf.Counter.apply(lambda x: x[3])\n",
    "    vote_5 = combdf.Counter.apply(lambda x: x[4])\n",
    "    newdf=pd.DataFrame({'vote_1': vote_1, 'vote_2': vote_2, 'vote_3': vote_3, 'vote_4': vote_4, 'vote_5':vote_5, 'quantity': combdf.Quantity})\n",
    "    return newdf\n",
    "\n",
    "unique_ballots_df = unique_ballots(ballotsdf).reset_index(drop=True)"
   ]
  },
  {
   "cell_type": "code",
   "execution_count": null,
   "metadata": {},
   "outputs": [],
   "source": [
    "#now we need to introduce some additional labelling of the data\n",
    "def general_labelling(ballot):\n",
    "    '''Maps the ballot to the parties or states the ballot is empty indicating all the percentages'''\n",
    "    ranking = np.array(Counter(ballot).most_common())\n",
    "    vote_list = []\n",
    "    for party_votes in ranking:\n",
    "        try:\n",
    "            vote = (int(party_votes[1]*20), partiesdf[partiesdf.party_id==party_votes[0]].iloc[:, 1].reset_index(drop=True)[0])\n",
    "            vote_list.append(vote)\n",
    "        except KeyError:\n",
    "            vote = (int(party_votes[1]*20), 'empty')\n",
    "            vote_list.append(vote)      \n",
    "    label = ';'.join([f'{vote[0]} percent for {vote[1]}' for vote in vote_list])\n",
    "    return label\n",
    "unique_ballots_df['general_label'] = unique_ballots_df.iloc[:, :5].apply(general_labelling, axis=1)"
   ]
  },
  {
   "cell_type": "code",
   "execution_count": 135,
   "metadata": {},
   "outputs": [],
   "source": [
    "#and a label concerning emptiness\n",
    "def empty_labelling(description):\n",
    "    '''Auxiliary label indicating emptiness percentage'''\n",
    "    if 'empty' in description:\n",
    "        split = description.split(';')\n",
    "        if len(split)>1:\n",
    "            label = int(list(filter(lambda string: 'empty' in string, split))[0][:2])\n",
    "        else:\n",
    "            label=100\n",
    "    else:\n",
    "        label = 0\n",
    "    return label    \n",
    "unique_ballots_df['emptiness_percentage'] = unique_ballots_df['general_label'].apply(empty_labelling)"
   ]
  },
  {
   "cell_type": "code",
   "execution_count": 167,
   "metadata": {},
   "outputs": [],
   "source": [
    "#and a label concerning the dominant party\n",
    "def dominant_party(description):\n",
    "    '''Auxiliary label giving the name of the dominant party'''\n",
    "    split = description.split(';')\n",
    "    if len(split)==1:\n",
    "        if 'empty' in description:\n",
    "            label = 'no dominant party'\n",
    "        else:   \n",
    "            label = split[0].split('for ')[1]\n",
    "    else:\n",
    "        if split[0][:2]==split[1][:2]:\n",
    "            label = 'no dominant party'\n",
    "        else:\n",
    "            label = split[0].split('for ')[1]\n",
    "    return label\n",
    "unique_ballots_df['dominant_party'] = unique_ballots_df['general_label'].apply(dominant_party)"
   ]
  },
  {
   "cell_type": "code",
   "execution_count": 156,
   "metadata": {},
   "outputs": [],
   "source": [
    "#and a label concerning parties involved\n",
    "def parties_involved(description):\n",
    "    '''Auxiliary label giving name of the parties voted for in the ballot'''\n",
    "    split = description.split(';')\n",
    "    if 'empty' in description and len(split)==1:\n",
    "        label = 'no party'\n",
    "    else:\n",
    "        parties_percentages = list(filter(lambda string: 'empty' not in string, split))\n",
    "        party_list = [parties_percentage.split('for ')[1] for parties_percentage in parties_percentages]\n",
    "        party_list = sorted(party_list, reverse=True)\n",
    "        label = ';'.join(party_list)\n",
    "    return label\n",
    "unique_ballots_df['parties_involved'] = unique_ballots_df['general_label'].apply(parties_involved)"
   ]
  },
  {
   "cell_type": "code",
   "execution_count": 224,
   "metadata": {},
   "outputs": [],
   "source": [
    "#and the labels for political spectrum\n",
    "left = ['DIE LINKE', 'GRÜNE', 'PIRATEN', 'Die PARTEI', 'BGE', 'V-Partei³', 'Die Humanisten']\n",
    "right = ['AfD', 'BIW']\n",
    "center= ['CDU', 'FDP', 'FREIE WÄHLER', 'MENSCHLICHE WELT', 'SPD']\n",
    "\n",
    "def spectrum(ballot):\n",
    "    '''Auxiliary label standing for the ballot's location on a priori political spectrum'''\n",
    "    \n",
    "    def attribution(party_name):\n",
    "        '''Auxiliary function to identify the party postion on the spectrum given its name'''\n",
    "        if party_name in left:\n",
    "            position = 'left'\n",
    "        elif party_name in right:\n",
    "            position = 'right'\n",
    "        elif party_name in center:\n",
    "            position = 'center'\n",
    "        elif party_name == 'The X-party':\n",
    "            position='TBD'\n",
    "        elif party_name == 'empty':\n",
    "            position= 'null'\n",
    "        return position\n",
    "\n",
    "    ranking = np.array(Counter(ballot).most_common())\n",
    "    vote_list = []\n",
    "    for party_votes in ranking:\n",
    "        try:\n",
    "            vote = (int(party_votes[1]*20), partiesdf[partiesdf.party_id==party_votes[0]].iloc[:, 1].reset_index(drop=True)[0])\n",
    "            vote_list.append(vote)\n",
    "        except KeyError:\n",
    "            vote = (int(party_votes[1]*20), 'empty')\n",
    "            vote_list.append(vote)\n",
    "    orientations =  list(map(attribution, [vote[1] for vote in vote_list]))\n",
    "    positions = [(orientation, vote[0]) for orientation, vote in zip(orientations, vote_list)]\n",
    "    if len(positions)==1:\n",
    "        label=f'100 percent {positions[0][0]}'\n",
    "    else:\n",
    "        results = [(orientation, sum([tuple[1] for tuple in list(filter(lambda position: position[0]==orientation, positions))])) for orientation in list(Counter(orientations))]\n",
    "        label=';'.join([f'{result[1]} percent {result[0]}' for result in sorted(results)])\n",
    "    return label\n",
    "\n",
    "unique_ballots_df['spectrum'] = unique_ballots_df.iloc[:, :5].apply(spectrum, axis=1)"
   ]
  },
  {
   "cell_type": "code",
   "execution_count": 226,
   "metadata": {},
   "outputs": [],
   "source": [
    "#here we make dummy variables for each party\n",
    "strdf = pd.DataFrame()\n",
    "for col in unique_ballots_df:\n",
    "    strdf[col] = unique_ballots_df[col].apply(str)\n",
    "#drop_first=True?\n",
    "strdf = pd.get_dummies(strdf, columns = ['vote_1', 'vote_2', 'vote_3', 'vote_4', 'vote_5'])"
   ]
  },
  {
   "cell_type": "code",
   "execution_count": 229,
   "metadata": {},
   "outputs": [],
   "source": [
    "def new_dim_to_df(transformed):\n",
    "    '''Receives a transformed values of ballots and returns a dataframe adding their quantity and labels from the initial df'''\n",
    "    df = pd.DataFrame()\n",
    "    for i in range(len(transformed[0])):\n",
    "        df[f'Component_{i+1}'] = transformed[:, i]\n",
    "    df = pd.concat([df, strdf.iloc[:, :6]], axis=1)\n",
    "    return df"
   ]
  },
  {
   "cell_type": "code",
   "execution_count": 44,
   "metadata": {},
   "outputs": [
    {
     "data": {
      "image/png": "[encoded data removed]",
      "text/plain": [
       "<Figure size 640x480 with 1 Axes>"
      ]
     },
     "metadata": {},
     "output_type": "display_data"
    }
   ],
   "source": [
    "from sklearn.decomposition import PCA\n",
    "var_explained = []\n",
    "for i in range(1, 21):\n",
    "    pca = PCA(n_components=i).fit(strdf.iloc[:, 6:])\n",
    "    var_explained.append(sum(pca.explained_variance_ratio_))\n",
    "plt.plot(var_explained)\n",
    "plt.xticks(ticks=list(range(0, 20)), labels=list(range(1, 21)))\n",
    "plt.xlabel('Number of components')\n",
    "plt.title('Proportion of explained variance across different number of PCA components used')\n",
    "plt.show()"
   ]
  },
  {
   "cell_type": "code",
   "execution_count": null,
   "metadata": {},
   "outputs": [],
   "source": [
    "#let us pick 10 components: the ratio seems to go down after this mark, and at the same time it explains over 50% of variance\n",
    "pca = PCA(n_components=10, random_state=1).fit(X=strdf.iloc[:, 6:])\n",
    "PCA_df = new_dim_to_df(transformed = pca.transform(X=strdf.iloc[:, 6:]))\n",
    "PCA_df"
   ]
  },
  {
   "cell_type": "code",
   "execution_count": 46,
   "metadata": {},
   "outputs": [
    {
     "data": {
      "image/png": "[encoded data removed]",
      "text/plain": [
       "<Figure size 640x480 with 1 Axes>"
      ]
     },
     "metadata": {},
     "output_type": "display_data"
    }
   ],
   "source": [
    "from sklearn.manifold import MDS\n",
    "stress = []\n",
    "for i in range(1, 21):\n",
    "    embedding = MDS(n_components=i, random_state=1)\n",
    "    embedding.fit_transform(strdf.iloc[:, 6:])\n",
    "    stress.append(embedding.stress_)\n",
    "plt.plot(stress)\n",
    "plt.xticks(ticks=list(range(0, 20)), labels=list(range(1, 21)))\n",
    "plt.xlabel('Value of stress')\n",
    "plt.title('Comparison of MDSs across different number of components used')\n",
    "plt.show()"
   ]
  },
  {
   "cell_type": "code",
   "execution_count": null,
   "metadata": {},
   "outputs": [],
   "source": [
    "#let us pick 5 components since there is not much of improvement after this mark\n",
    "embedding = MDS(n_components=5, random_state=1)\n",
    "MDS_df = new_dim_to_df(transformed = embedding.fit_transform(strdf.iloc[:, 6:]))\n",
    "MDS_df"
   ]
  },
  {
   "cell_type": "code",
   "execution_count": 5,
   "metadata": {},
   "outputs": [
    {
     "data": {
      "text/html": [
       "<div>\n",
       "<style scoped>\n",
       "    .dataframe tbody tr th:only-of-type {\n",
       "        vertical-align: middle;\n",
       "    }\n",
       "\n",
       "    .dataframe tbody tr th {\n",
       "        vertical-align: top;\n",
       "    }\n",
       "\n",
       "    .dataframe thead th {\n",
       "        text-align: right;\n",
       "    }\n",
       "</style>\n",
       "<table border=\"1\" class=\"dataframe\">\n",
       "  <thead>\n",
       "    <tr style=\"text-align: right;\">\n",
       "      <th></th>\n",
       "      <th>vote_1</th>\n",
       "      <th>vote_2</th>\n",
       "      <th>vote_3</th>\n",
       "      <th>vote_4</th>\n",
       "      <th>vote_5</th>\n",
       "    </tr>\n",
       "  </thead>\n",
       "  <tbody>\n",
       "    <tr>\n",
       "      <th>0</th>\n",
       "      <td>100.0</td>\n",
       "      <td>100.0</td>\n",
       "      <td>100.0</td>\n",
       "      <td>100.0</td>\n",
       "      <td>100.0</td>\n",
       "    </tr>\n",
       "    <tr>\n",
       "      <th>1</th>\n",
       "      <td>100.0</td>\n",
       "      <td>100.0</td>\n",
       "      <td>100.0</td>\n",
       "      <td>100.0</td>\n",
       "      <td>100.0</td>\n",
       "    </tr>\n",
       "    <tr>\n",
       "      <th>2</th>\n",
       "      <td>100.0</td>\n",
       "      <td>100.0</td>\n",
       "      <td>100.0</td>\n",
       "      <td>100.0</td>\n",
       "      <td>100.0</td>\n",
       "    </tr>\n",
       "    <tr>\n",
       "      <th>3</th>\n",
       "      <td>100.0</td>\n",
       "      <td>100.0</td>\n",
       "      <td>100.0</td>\n",
       "      <td>100.0</td>\n",
       "      <td>100.0</td>\n",
       "    </tr>\n",
       "    <tr>\n",
       "      <th>4</th>\n",
       "      <td>100.0</td>\n",
       "      <td>100.0</td>\n",
       "      <td>100.0</td>\n",
       "      <td>100.0</td>\n",
       "      <td>100.0</td>\n",
       "    </tr>\n",
       "    <tr>\n",
       "      <th>...</th>\n",
       "      <td>...</td>\n",
       "      <td>...</td>\n",
       "      <td>...</td>\n",
       "      <td>...</td>\n",
       "      <td>...</td>\n",
       "    </tr>\n",
       "    <tr>\n",
       "      <th>253151</th>\n",
       "      <td>0.0</td>\n",
       "      <td>0.0</td>\n",
       "      <td>0.0</td>\n",
       "      <td>0.0</td>\n",
       "      <td>0.0</td>\n",
       "    </tr>\n",
       "    <tr>\n",
       "      <th>253152</th>\n",
       "      <td>0.0</td>\n",
       "      <td>0.0</td>\n",
       "      <td>0.0</td>\n",
       "      <td>0.0</td>\n",
       "      <td>0.0</td>\n",
       "    </tr>\n",
       "    <tr>\n",
       "      <th>253153</th>\n",
       "      <td>0.0</td>\n",
       "      <td>0.0</td>\n",
       "      <td>0.0</td>\n",
       "      <td>0.0</td>\n",
       "      <td>0.0</td>\n",
       "    </tr>\n",
       "    <tr>\n",
       "      <th>253154</th>\n",
       "      <td>0.0</td>\n",
       "      <td>0.0</td>\n",
       "      <td>0.0</td>\n",
       "      <td>0.0</td>\n",
       "      <td>0.0</td>\n",
       "    </tr>\n",
       "    <tr>\n",
       "      <th>253155</th>\n",
       "      <td>0.0</td>\n",
       "      <td>0.0</td>\n",
       "      <td>0.0</td>\n",
       "      <td>0.0</td>\n",
       "      <td>0.0</td>\n",
       "    </tr>\n",
       "  </tbody>\n",
       "</table>\n",
       "<p>253156 rows × 5 columns</p>\n",
       "</div>"
      ],
      "text/plain": [
       "        vote_1  vote_2  vote_3  vote_4  vote_5\n",
       "0        100.0   100.0   100.0   100.0   100.0\n",
       "1        100.0   100.0   100.0   100.0   100.0\n",
       "2        100.0   100.0   100.0   100.0   100.0\n",
       "3        100.0   100.0   100.0   100.0   100.0\n",
       "4        100.0   100.0   100.0   100.0   100.0\n",
       "...        ...     ...     ...     ...     ...\n",
       "253151     0.0     0.0     0.0     0.0     0.0\n",
       "253152     0.0     0.0     0.0     0.0     0.0\n",
       "253153     0.0     0.0     0.0     0.0     0.0\n",
       "253154     0.0     0.0     0.0     0.0     0.0\n",
       "253155     0.0     0.0     0.0     0.0     0.0\n",
       "\n",
       "[253156 rows x 5 columns]"
      ]
     },
     "execution_count": 5,
     "metadata": {},
     "output_type": "execute_result"
    }
   ],
   "source": [
    "#converting into the df with single ballots\n",
    "def single_ballots(df):\n",
    "    uniform_ballots = []\n",
    "    for i in range(len(df)):\n",
    "        row = df.iloc[i, :5]\n",
    "        multiplicator = int(df.iloc[i, 5])\n",
    "        uniform_ballots.append(pd.concat([pd.DataFrame(row).transpose() for i in range(multiplicator)], ignore_index=True))\n",
    "    converted_df = pd.concat(uniform_ballots, ignore_index=True)\n",
    "    return converted_df\n",
    "\n",
    "df = single_ballots(unique_ballots_df).reset_index(drop=True)\n",
    "df"
   ]
  },
  {
   "cell_type": "code",
   "execution_count": 54,
   "metadata": {},
   "outputs": [
    {
     "name": "stderr",
     "output_type": "stream",
     "text": [
      "Feature Extraction:   0%|          | 0/10 [00:00<?, ?it/s]"
     ]
    }
   ],
   "source": [
    "# is it needed?\n",
    "from tsfresh import extract_features\n",
    "x = extract_features(df, column_id='index')"
   ]
  }
 ],
 "metadata": {
  "kernelspec": {
   "display_name": "Python 3",
   "language": "python",
   "name": "python3"
  },
  "language_info": {
   "codemirror_mode": {
    "name": "ipython",
    "version": 3
   },
   "file_extension": ".py",
   "mimetype": "text/x-python",
   "name": "python",
   "nbconvert_exporter": "python",
   "pygments_lexer": "ipython3",
   "version": "3.10.2"
  },
  "orig_nbformat": 4,
  "vscode": {
   "interpreter": {
    "hash": "afb734500600fd355917ca529030176ea0ca205570884b88f2f6f7d791fd3fbe"
   }
  }
 },
 "nbformat": 4,
 "nbformat_minor": 2
}
